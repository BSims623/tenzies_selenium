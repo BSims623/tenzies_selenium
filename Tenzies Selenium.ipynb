{
 "cells": [
  {
   "cell_type": "code",
   "execution_count": 101,
   "id": "a88b9634",
   "metadata": {},
   "outputs": [],
   "source": [
    "from selenium import webdriver\n",
    "from selenium.webdriver.common.keys import Keys\n",
    "from selenium.webdriver.common.by import By\n",
    "import time\n",
    "from selenium.webdriver.support.ui import WebDriverWait\n",
    "from selenium.webdriver.support import expected_conditions as EC\n",
    "from selenium.webdriver.common.action_chains import ActionChains"
   ]
  },
  {
   "cell_type": "code",
   "execution_count": 102,
   "id": "bc172e75",
   "metadata": {},
   "outputs": [],
   "source": [
    "driver = webdriver.Chrome()"
   ]
  },
  {
   "cell_type": "code",
   "execution_count": 103,
   "id": "6b2a2b79",
   "metadata": {},
   "outputs": [],
   "source": [
    "driver.get('https://tenzies-fxan.onrender.com/')"
   ]
  },
  {
   "cell_type": "code",
   "execution_count": 104,
   "id": "8879d9c1",
   "metadata": {},
   "outputs": [],
   "source": [
    "time.sleep(2)"
   ]
  },
  {
   "cell_type": "code",
   "execution_count": 105,
   "id": "4e1c3a06",
   "metadata": {},
   "outputs": [],
   "source": [
    "button = driver.find_element(by=By.CLASS_NAME, value='btn-danger') "
   ]
  },
  {
   "cell_type": "code",
   "execution_count": 106,
   "id": "90dcf71b",
   "metadata": {},
   "outputs": [],
   "source": [
    "button.click()"
   ]
  },
  {
   "cell_type": "code",
   "execution_count": 107,
   "id": "e94719aa",
   "metadata": {},
   "outputs": [],
   "source": [
    "email = driver.find_element(by=By.NAME, value='email')"
   ]
  },
  {
   "cell_type": "code",
   "execution_count": 108,
   "id": "4c5acdc0",
   "metadata": {},
   "outputs": [],
   "source": [
    "email.send_keys(\"test@gmail.com\")"
   ]
  },
  {
   "cell_type": "code",
   "execution_count": 109,
   "id": "cb87ea8b",
   "metadata": {},
   "outputs": [],
   "source": [
    "time.sleep(2)"
   ]
  },
  {
   "cell_type": "code",
   "execution_count": 110,
   "id": "e045d0f1",
   "metadata": {},
   "outputs": [],
   "source": [
    "password = driver.find_element(by=By.NAME, value='password')"
   ]
  },
  {
   "cell_type": "code",
   "execution_count": 111,
   "id": "a9f81bfb",
   "metadata": {},
   "outputs": [],
   "source": [
    "password.send_keys('secret123')"
   ]
  },
  {
   "cell_type": "code",
   "execution_count": 112,
   "id": "db8ed40c",
   "metadata": {},
   "outputs": [],
   "source": [
    "time.sleep(2)"
   ]
  },
  {
   "cell_type": "code",
   "execution_count": 113,
   "id": "b5516c95",
   "metadata": {},
   "outputs": [],
   "source": [
    "button = driver.find_element(by=By.CLASS_NAME, value='btn-danger')"
   ]
  },
  {
   "cell_type": "code",
   "execution_count": 114,
   "id": "e3cfd547",
   "metadata": {},
   "outputs": [],
   "source": [
    "button.click()"
   ]
  },
  {
   "cell_type": "code",
   "execution_count": 115,
   "id": "1c65e1fc",
   "metadata": {},
   "outputs": [],
   "source": [
    "time.sleep(5)"
   ]
  },
  {
   "cell_type": "code",
   "execution_count": 116,
   "id": "83b6f76c",
   "metadata": {},
   "outputs": [],
   "source": [
    "button = driver.find_element(by=By.CLASS_NAME, value='rollBtn')"
   ]
  },
  {
   "cell_type": "code",
   "execution_count": 117,
   "id": "3a560c28",
   "metadata": {},
   "outputs": [],
   "source": [
    "actions = ActionChains(driver)\n",
    "actions.move_to_element(button).click()\n",
    "actions.perform()"
   ]
  },
  {
   "cell_type": "code",
   "execution_count": 118,
   "id": "bddcef4a",
   "metadata": {},
   "outputs": [],
   "source": [
    "dice_divs = driver.find_elements(By.CSS_SELECTOR, \"div.die[style='background: rgb(248, 249, 250);']\")\n",
    "def roll_the_dice():\n",
    "# Loop through each div element\n",
    "    dice_divs = driver.find_elements(By.CSS_SELECTOR, \"div.die[style='background: rgb(248, 249, 250);']\")\n",
    "    for div in dice_divs:\n",
    "        # Find all SVG elements with class \"bi-dice-1-fill\" within the current div\n",
    "        svgs = div.find_elements(By.CSS_SELECTOR, \"svg.bi-dice-1-fill\")\n",
    "        # Click each SVG element\n",
    "        for svg in svgs:\n",
    "            svg.click()\n",
    "    dice_divs = driver.find_elements(By.CSS_SELECTOR, \"div.die[style='background: rgb(248, 249, 250);']\")        \n",
    "    if dice_divs:\n",
    "        button.click()\n",
    "        roll_the_dice()"
   ]
  },
  {
   "cell_type": "code",
   "execution_count": 119,
   "id": "ad889bcb",
   "metadata": {},
   "outputs": [],
   "source": [
    "roll_the_dice()"
   ]
  },
  {
   "cell_type": "code",
   "execution_count": 120,
   "id": "f40db3b5",
   "metadata": {},
   "outputs": [],
   "source": [
    "time.sleep(2)"
   ]
  },
  {
   "cell_type": "code",
   "execution_count": 121,
   "id": "7bfe8ff2",
   "metadata": {},
   "outputs": [],
   "source": [
    "logout = driver.find_element(By.CSS_SELECTOR, \"ul.navbar-nav button.btn-danger\")"
   ]
  },
  {
   "cell_type": "code",
   "execution_count": 122,
   "id": "0db3f1b0",
   "metadata": {},
   "outputs": [],
   "source": [
    "time.sleep(3)"
   ]
  },
  {
   "cell_type": "code",
   "execution_count": 123,
   "id": "8ffb8a86",
   "metadata": {},
   "outputs": [],
   "source": [
    "actions.move_to_element(logout).click()\n",
    "actions.perform()"
   ]
  },
  {
   "cell_type": "code",
   "execution_count": 124,
   "id": "2970fede",
   "metadata": {},
   "outputs": [],
   "source": [
    "time.sleep(2)"
   ]
  },
  {
   "cell_type": "code",
   "execution_count": 125,
   "id": "0878451d",
   "metadata": {},
   "outputs": [],
   "source": [
    "driver.quit()"
   ]
  }
 ],
 "metadata": {
  "kernelspec": {
   "display_name": "Python 3 (ipykernel)",
   "language": "python",
   "name": "python3"
  },
  "language_info": {
   "codemirror_mode": {
    "name": "ipython",
    "version": 3
   },
   "file_extension": ".py",
   "mimetype": "text/x-python",
   "name": "python",
   "nbconvert_exporter": "python",
   "pygments_lexer": "ipython3",
   "version": "3.11.5"
  }
 },
 "nbformat": 4,
 "nbformat_minor": 5
}
